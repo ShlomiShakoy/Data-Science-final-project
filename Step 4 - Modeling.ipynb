{
 "cells": [
  {
   "cell_type": "code",
   "execution_count": 86,
   "id": "eb84d48f",
   "metadata": {},
   "outputs": [],
   "source": [
    "import pandas as pd\n",
    "import numpy as np\n",
    "from numpy import array \n",
    "from sklearn.linear_model import LinearRegression\n",
    "from sklearn.linear_model import LogisticRegression\n",
    "from sklearn.model_selection import train_test_split\n",
    "from sklearn import ensemble\n",
    "from sklearn.ensemble import RandomForestRegressor\n",
    "from sklearn import ensemble\n",
    "from sklearn import tree\n",
    "from sklearn.ensemble import RandomForestClassifier\n",
    "import sklearn.metrics as metrics\n",
    "from sklearn.metrics import r2_score"
   ]
  },
  {
   "cell_type": "code",
   "execution_count": 87,
   "id": "99b62f87",
   "metadata": {},
   "outputs": [
    {
     "data": {
      "text/html": [
       "<div>\n",
       "<style scoped>\n",
       "    .dataframe tbody tr th:only-of-type {\n",
       "        vertical-align: middle;\n",
       "    }\n",
       "\n",
       "    .dataframe tbody tr th {\n",
       "        vertical-align: top;\n",
       "    }\n",
       "\n",
       "    .dataframe thead th {\n",
       "        text-align: right;\n",
       "    }\n",
       "</style>\n",
       "<table border=\"1\" class=\"dataframe\">\n",
       "  <thead>\n",
       "    <tr style=\"text-align: right;\">\n",
       "      <th></th>\n",
       "      <th>City</th>\n",
       "      <th>Street</th>\n",
       "      <th>Floor</th>\n",
       "      <th>NumOfRooms</th>\n",
       "      <th>Size(SQM)</th>\n",
       "      <th>Type</th>\n",
       "      <th>Price(₪)</th>\n",
       "    </tr>\n",
       "  </thead>\n",
       "  <tbody>\n",
       "    <tr>\n",
       "      <th>0</th>\n",
       "      <td>גבעת שמואל</td>\n",
       "      <td>רמת הדר</td>\n",
       "      <td>15</td>\n",
       "      <td>5.5</td>\n",
       "      <td>150</td>\n",
       "      <td>דירה</td>\n",
       "      <td>3895000</td>\n",
       "    </tr>\n",
       "    <tr>\n",
       "      <th>1</th>\n",
       "      <td>קרית גת</td>\n",
       "      <td>כרמי גת</td>\n",
       "      <td>1</td>\n",
       "      <td>3.0</td>\n",
       "      <td>80</td>\n",
       "      <td>דירה</td>\n",
       "      <td>1650000</td>\n",
       "    </tr>\n",
       "    <tr>\n",
       "      <th>2</th>\n",
       "      <td>חיפה</td>\n",
       "      <td>שדרות הצבי 37</td>\n",
       "      <td>1</td>\n",
       "      <td>5.0</td>\n",
       "      <td>130</td>\n",
       "      <td>דירה</td>\n",
       "      <td>3200000</td>\n",
       "    </tr>\n",
       "    <tr>\n",
       "      <th>3</th>\n",
       "      <td>אילת</td>\n",
       "      <td>משעול המערב 6</td>\n",
       "      <td>2</td>\n",
       "      <td>4.0</td>\n",
       "      <td>99</td>\n",
       "      <td>דירה</td>\n",
       "      <td>1650000</td>\n",
       "    </tr>\n",
       "    <tr>\n",
       "      <th>5</th>\n",
       "      <td>שדרות</td>\n",
       "      <td>משעול פינס 5</td>\n",
       "      <td>0</td>\n",
       "      <td>4.0</td>\n",
       "      <td>270</td>\n",
       "      <td>דירת גן</td>\n",
       "      <td>1550000</td>\n",
       "    </tr>\n",
       "    <tr>\n",
       "      <th>...</th>\n",
       "      <td>...</td>\n",
       "      <td>...</td>\n",
       "      <td>...</td>\n",
       "      <td>...</td>\n",
       "      <td>...</td>\n",
       "      <td>...</td>\n",
       "      <td>...</td>\n",
       "    </tr>\n",
       "    <tr>\n",
       "      <th>8495</th>\n",
       "      <td>קרית מוצקין</td>\n",
       "      <td>יהודה הלוי</td>\n",
       "      <td>0</td>\n",
       "      <td>3.0</td>\n",
       "      <td>85</td>\n",
       "      <td>דירת גן</td>\n",
       "      <td>1190000</td>\n",
       "    </tr>\n",
       "    <tr>\n",
       "      <th>8496</th>\n",
       "      <td>ראשון לציון</td>\n",
       "      <td>נווה חוף</td>\n",
       "      <td>22</td>\n",
       "      <td>6.0</td>\n",
       "      <td>230</td>\n",
       "      <td>גג/פנטהאוז</td>\n",
       "      <td>5420000</td>\n",
       "    </tr>\n",
       "    <tr>\n",
       "      <th>8497</th>\n",
       "      <td>ירושלים</td>\n",
       "      <td>השיירות</td>\n",
       "      <td>2</td>\n",
       "      <td>3.5</td>\n",
       "      <td>75</td>\n",
       "      <td>דירה</td>\n",
       "      <td>3150000</td>\n",
       "    </tr>\n",
       "    <tr>\n",
       "      <th>8499</th>\n",
       "      <td>הרצליה</td>\n",
       "      <td>עזרא הסופר</td>\n",
       "      <td>4</td>\n",
       "      <td>4.0</td>\n",
       "      <td>108</td>\n",
       "      <td>דירה</td>\n",
       "      <td>4090000</td>\n",
       "    </tr>\n",
       "    <tr>\n",
       "      <th>8500</th>\n",
       "      <td>חיפה</td>\n",
       "      <td>חיפה</td>\n",
       "      <td>4</td>\n",
       "      <td>5.0</td>\n",
       "      <td>190</td>\n",
       "      <td>דירה</td>\n",
       "      <td>5200000</td>\n",
       "    </tr>\n",
       "  </tbody>\n",
       "</table>\n",
       "<p>8150 rows × 7 columns</p>\n",
       "</div>"
      ],
      "text/plain": [
       "              City         Street  Floor  NumOfRooms  Size(SQM)        Type  \\\n",
       "0       גבעת שמואל        רמת הדר     15         5.5        150        דירה   \n",
       "1          קרית גת        כרמי גת      1         3.0         80        דירה   \n",
       "2             חיפה  שדרות הצבי 37      1         5.0        130        דירה   \n",
       "3             אילת  משעול המערב 6      2         4.0         99        דירה   \n",
       "5            שדרות   משעול פינס 5      0         4.0        270     דירת גן   \n",
       "...            ...            ...    ...         ...        ...         ...   \n",
       "8495   קרית מוצקין     יהודה הלוי      0         3.0         85     דירת גן   \n",
       "8496   ראשון לציון       נווה חוף     22         6.0        230  גג/פנטהאוז   \n",
       "8497       ירושלים        השיירות      2         3.5         75        דירה   \n",
       "8499        הרצליה     עזרא הסופר      4         4.0        108        דירה   \n",
       "8500          חיפה           חיפה      4         5.0        190        דירה   \n",
       "\n",
       "      Price(₪)  \n",
       "0      3895000  \n",
       "1      1650000  \n",
       "2      3200000  \n",
       "3      1650000  \n",
       "5      1550000  \n",
       "...        ...  \n",
       "8495   1190000  \n",
       "8496   5420000  \n",
       "8497   3150000  \n",
       "8499   4090000  \n",
       "8500   5200000  \n",
       "\n",
       "[8150 rows x 7 columns]"
      ]
     },
     "execution_count": 87,
     "metadata": {},
     "output_type": "execute_result"
    }
   ],
   "source": [
    "df = pd.read_csv('apartments.csv', index_col=0)\n",
    "df"
   ]
  },
  {
   "cell_type": "code",
   "execution_count": 88,
   "id": "3b1b1a67",
   "metadata": {},
   "outputs": [
    {
     "name": "stdout",
     "output_type": "stream",
     "text": [
      "Accuracy: 0.7705894517259481\n"
     ]
    }
   ],
   "source": [
    "#Using a 'Linear Regression' model to predict the Price(₪) column based on the Floor, NumOfRooms and Size(SQM) columns.\n",
    "#This is no the best model since it can't understand the location of the apartment.\n",
    "X = df[['Floor', 'NumOfRooms', 'Size(SQM)']]\n",
    "y = df['Price(₪)']\n",
    "\n",
    "X_train1, X_test1, y_train1, y_test1 = train_test_split(X, y, test_size=0.25, random_state=50)\n",
    "reg = LinearRegression().fit(X_train1, y_train1)\n",
    "print(\"Accuracy:\", model.score(X_test1, y_test1))"
   ]
  },
  {
   "cell_type": "code",
   "execution_count": 89,
   "id": "55927c39",
   "metadata": {},
   "outputs": [
    {
     "name": "stdout",
     "output_type": "stream",
     "text": [
      "Accuracy: 0.7442004179808843\n"
     ]
    }
   ],
   "source": [
    "#Using a 'Random Forest Regressor' model to predict the Price(₪) column based on the Floor, NumOfRooms and Size(SQM) columns.\n",
    "X_train, X_test, y_train, y_test = train_test_split(X, y, test_size=0.2, random_state=42)\n",
    "model = RandomForestRegressor(n_estimators=100, random_state=42).fit(X, y)\n",
    "print(\"Accuracy:\", model.score(X_test, y_test))"
   ]
  },
  {
   "cell_type": "code",
   "execution_count": 90,
   "id": "f2f3a233",
   "metadata": {},
   "outputs": [
    {
     "name": "stdout",
     "output_type": "stream",
     "text": [
      "Predicted price for a 3-room apartment on the second floor with 80SQM: 2292426\n",
      "Predicted price for a 4-room apartment on the sixth floor with 100SQM: 2431877\n",
      "Predicted price for a 5-room apartment on the 15th floor with 120SQM: 3327453\n"
     ]
    },
    {
     "name": "stderr",
     "output_type": "stream",
     "text": [
      "D:\\Anaconda3\\lib\\site-packages\\sklearn\\base.py:450: UserWarning: X does not have valid feature names, but RandomForestRegressor was fitted with feature names\n",
      "  warnings.warn(\n",
      "D:\\Anaconda3\\lib\\site-packages\\sklearn\\base.py:450: UserWarning: X does not have valid feature names, but RandomForestRegressor was fitted with feature names\n",
      "  warnings.warn(\n",
      "D:\\Anaconda3\\lib\\site-packages\\sklearn\\base.py:450: UserWarning: X does not have valid feature names, but RandomForestRegressor was fitted with feature names\n",
      "  warnings.warn(\n"
     ]
    }
   ],
   "source": [
    "#A few examples of predicting apartment prices using the Linear Regression model:\n",
    "#First parameter is Floor, second is Number of rooms and third is Size.\n",
    "prediction1 = model.predict([[2, 3, 80]])\n",
    "prediction2 = model.predict([[6, 4, 100]])\n",
    "prediction3 = model.predict([[15, 5, 120]])\n",
    "print(\"Predicted price for a 3-room apartment on the second floor with 80SQM:\", int(prediction1))\n",
    "print(\"Predicted price for a 4-room apartment on the sixth floor with 100SQM:\", int(prediction2))\n",
    "print(\"Predicted price for a 5-room apartment on the 15th floor with 120SQM:\", int(prediction3))"
   ]
  }
 ],
 "metadata": {
  "kernelspec": {
   "display_name": "Python 3 (ipykernel)",
   "language": "python",
   "name": "python3"
  },
  "language_info": {
   "codemirror_mode": {
    "name": "ipython",
    "version": 3
   },
   "file_extension": ".py",
   "mimetype": "text/x-python",
   "name": "python",
   "nbconvert_exporter": "python",
   "pygments_lexer": "ipython3",
   "version": "3.9.12"
  }
 },
 "nbformat": 4,
 "nbformat_minor": 5
}
