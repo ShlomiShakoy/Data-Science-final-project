{
 "cells": [
  {
   "cell_type": "code",
   "execution_count": 11,
   "id": "0e6f850a",
   "metadata": {},
   "outputs": [],
   "source": [
    "from bs4 import BeautifulSoup\n",
    "from selenium import webdriver\n",
    "import pandas as pd\n",
    "import seaborn as sns\n",
    "import numpy as np\n",
    "import matplotlib.pyplot as plt\n",
    "import matplotlib\n",
    "%matplotlib inline\n",
    "import requests\n",
    "import time\n",
    "from selenium.webdriver.common.by import By\n",
    "from selenium.webdriver.common.keys import Keys\n",
    "from selenium.webdriver.support import expected_conditions as EC\n",
    "from selenium.webdriver.support.ui import WebDriverWait\n",
    "from bidi import algorithm as bidialg\n",
    "from selenium.webdriver.chrome.service import Service\n",
    "from webdriver_manager.chrome import ChromeDriverManager"
   ]
  },
  {
   "cell_type": "code",
   "execution_count": 12,
   "id": "901b205c",
   "metadata": {},
   "outputs": [
    {
     "name": "stderr",
     "output_type": "stream",
     "text": [
      "[WDM] - Downloading: 100%|██████████| 6.79M/6.79M [00:00<00:00, 38.1MB/s]\n"
     ]
    }
   ],
   "source": [
    "s=Service(ChromeDriverManager().install())\n",
    "driver = webdriver.Chrome(service=s)\n",
    "driver.maximize_window()\n",
    "driver.get('https://www.yad2.co.il/realestate/forsale?propertyGroup=apartments&priceOnly=1')"
   ]
  },
  {
   "cell_type": "code",
   "execution_count": 11,
   "id": "20561a06",
   "metadata": {},
   "outputs": [],
   "source": [
    "#Creating a DataFrame for the raw data before cleaning.\n",
    "raw_data = {'City':[],\n",
    "            'Street':[],\n",
    "            'Floor':[],\n",
    "            'NumOfRooms':[],\n",
    "            'Size(SQM)':[],\n",
    "            'Type':[],\n",
    "            'Price(₪)':[]}\n",
    "raw_df = pd.DataFrame(raw_data)"
   ]
  },
  {
   "cell_type": "code",
   "execution_count": 7,
   "id": "dbd7f592",
   "metadata": {},
   "outputs": [],
   "source": [
    "content = driver.find_elements(By.CLASS_NAME, \"feeditem\")"
   ]
  },
  {
   "cell_type": "code",
   "execution_count": null,
   "id": "8b1208dd",
   "metadata": {},
   "outputs": [],
   "source": [
    "#First loop for iterating through the first 220 pages.\n",
    "#Second loop to iterating through each apartment ad.\n",
    "i = 0\n",
    "j = 0\n",
    "while(j < 220):\n",
    "    i = 0\n",
    "    for element in content:\n",
    "        city = element.find_element(By.CLASS_NAME,'subtitle')\n",
    "\n",
    "        street = element.find_element(By.CLASS_NAME,'title')\n",
    "\n",
    "        floor = element.find_element(By.ID,'data_floor_{}'.format(i))\n",
    "\n",
    "        NumOfRooms = element.find_element(By.ID,'data_rooms_{}'.format(i))\n",
    "\n",
    "        size = element.find_element(By.ID,'data_SquareMeter_{}'.format(i))\n",
    "\n",
    "        type_ = city.text.split(',')[0]\n",
    "\n",
    "        price = element.find_element(By.ID,'feed_item_{}_price'.format(i))\n",
    "\n",
    "        apartment = [city.text ,street.text ,floor.text ,NumOfRooms.text ,size.text ,type_ ,price.text]\n",
    "        raw_df.loc[len(raw_df.index)] = apartment\n",
    "\n",
    "        i += 1\n",
    "        \n",
    "    j += 1\n",
    "    driver.get('https://www.yad2.co.il/realestate/forsale?propertyGroup=apartments&priceOnly=1&page={}'.format(j))\n",
    "    element = WebDriverWait(driver, 5).until(EC.presence_of_element_located((By.CLASS_NAME, 'feeditem')))\n",
    "    content = driver.find_elements(By.CLASS_NAME, \"feeditem\")"
   ]
  },
  {
   "cell_type": "code",
   "execution_count": null,
   "id": "c54db00e",
   "metadata": {},
   "outputs": [],
   "source": [
    "raw_df.to_csv('apartments.csv')"
   ]
  }
 ],
 "metadata": {
  "kernelspec": {
   "display_name": "Python 3 (ipykernel)",
   "language": "python",
   "name": "python3"
  },
  "language_info": {
   "codemirror_mode": {
    "name": "ipython",
    "version": 3
   },
   "file_extension": ".py",
   "mimetype": "text/x-python",
   "name": "python",
   "nbconvert_exporter": "python",
   "pygments_lexer": "ipython3",
   "version": "3.9.12"
  }
 },
 "nbformat": 4,
 "nbformat_minor": 5
}
